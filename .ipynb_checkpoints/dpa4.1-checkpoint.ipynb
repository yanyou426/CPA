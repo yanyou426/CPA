{
 "cells": [
  {
   "cell_type": "code",
   "execution_count": 1,
   "metadata": {},
   "outputs": [],
   "source": [
    "import numpy as np\n",
    "import struct\n",
    "import matplotlib.pyplot as plt\n",
    "import aes as AES\n",
    "from SCAUtil import SBOX, HW, correlation"
   ]
  },
  {
   "cell_type": "code",
   "execution_count": 337,
   "metadata": {},
   "outputs": [],
   "source": [
    "%load_ext autoreload\n",
    "%reload_ext autoreload\n",
    "%autoreload 2\n",
    "%matplotlib inline"
   ]
  },
  {
   "cell_type": "code",
   "execution_count": 416,
   "metadata": {},
   "outputs": [],
   "source": [
    "trace_length = 435002 # data point num\n",
    "raw_trace_num = 10000 # trace number\n",
    "start, offset = 0, 3000 # specific range for the traces and data to be used"
   ]
  },
  {
   "cell_type": "markdown",
   "metadata": {},
   "source": [
    "# 0. 处理曲线等文件\n",
    "\n",
    "- 对包含有明密文、密钥、偏移的index文件 以及 曲线文件 进行解析\n",
    "- index文件以及曲线文件解析后存储为npy文件方便后续使用\n",
    "\n",
    "## 0.0 解析index file"
   ]
  },
  {
   "cell_type": "code",
   "execution_count": 301,
   "metadata": {},
   "outputs": [],
   "source": [
    "# 读取indexfile\n",
    "def get_index_line(single_line):\n",
    "    columns = single_line.split(\" \")\n",
    "    return columns[:-1] # except for the last column \n",
    "\n",
    "def read_index_file(start :int, offset : int):\n",
    "    index_lines = []\n",
    "    with open(\"data/dpav4_rsm_index\", \"rb\") as f:\n",
    "        count = 0\n",
    "        print(\"[*] Reading DPA index file from %d to %d\" % (start, start + offset - 1))\n",
    "        for line in f:\n",
    "            if count < start:\n",
    "                continue\n",
    "            if count >= start + offset:\n",
    "                break\n",
    "            index_lines.append(get_index_line(line.decode()))\n",
    "            count += 1\n",
    "    assert len(index_lines) == offset\n",
    "    return index_lines\n",
    "\n",
    "def save_index_file(index_contents):\n",
    "    crypto_ctnt, offset_ctnt = [],[]\n",
    "    showed_key = {}\n",
    "    for content in index_contents:\n",
    "        key_index = int(content[-1][1:]) # 00 01..., etc\n",
    "        if key_index not in showed_key:\n",
    "            showed_key[key_index] = content[0]\n",
    "        crypto_ctnt.append([content[1], content[2]])\n",
    "        offset_ctnt.append(content[3])\n",
    "    \n",
    "    np.save(\"data/cipher.npy\", crypto_ctnt)\n",
    "    np.save(\"data/offset.npy\", offset_ctnt)\n",
    "    np.save(\"data/key.npy\", showed_key)\n",
    "    return 1"
   ]
  },
  {
   "cell_type": "markdown",
   "metadata": {},
   "source": [
    "## 0.1 从npy读取index file"
   ]
  },
  {
   "cell_type": "code",
   "execution_count": 313,
   "metadata": {},
   "outputs": [],
   "source": [
    "\n",
    "def load_index_npy_file():\n",
    "    crypto = np.load(\"data/cipher.npy\")\n",
    "    offset = np.load(\"data/offset.npy\")\n",
    "    \n",
    "    # modify the default parameters of np.load\n",
    "    np_load_old = np.load\n",
    "    np.load = lambda *a,**k: np_load_old(*a, allow_pickle=True, **k) # compromise\n",
    "    showed_key = np.load(\"data/key.npy\").item()\n",
    "    np.load = np_load_old\n",
    "    return crypto, offset, showed_key\n",
    "\n",
    "def load_mask_file():\n",
    "    mask = np.load(\"data/mask.npy\") # dpa contest v4.1 mask\n",
    "    print(\"[*] The AES mask is :\", mask)\n",
    "    return mask\n"
   ]
  },
  {
   "cell_type": "markdown",
   "metadata": {},
   "source": [
    "## 0.2 Wrap Up"
   ]
  },
  {
   "cell_type": "code",
   "execution_count": 339,
   "metadata": {},
   "outputs": [
    {
     "name": "stdout",
     "output_type": "stream",
     "text": [
      "[*] Reading DPA index file from 0 to 2999\n",
      "[*] Saving DPA index file done.\n",
      "\t[*] plaintxt/ciphertxt samples:  [['448ff4f8eae2cea393553e15fd00eca1' 'f71e9995e754e9f711b4027106a72788']]\n",
      "\t[*] offset samples:  ['8' '8' 'b' '5' '4']\n",
      "\t[*] AES key: 6cecc67f287d083deb8766f0738b36cf164ed9b246951090869d08285d2e193b\n"
     ]
    },
    {
     "data": {
      "text/plain": [
       "0"
      ]
     },
     "execution_count": 339,
     "metadata": {},
     "output_type": "execute_result"
    }
   ],
   "source": [
    "def process_index_file(start : int, offset : int):\n",
    "    index_contents = read_index_file(start, offset)\n",
    "    try:\n",
    "        if save_index_file(index_contents):\n",
    "            print(\"[*] Saving DPA index file done.\")\n",
    "    except Exception as e:\n",
    "        print(\"[*] Exception:\", e)\n",
    "        return -1;\n",
    "    crypto, offset, showed_key = load_index_npy_file() # load index data\n",
    "    # dump some data to verify\n",
    "    \n",
    "    print(\"\\t[*] plaintxt/ciphertxt samples: \", crypto[:1])\n",
    "    print(\"\\t[*] offset samples: \", offset[:5])\n",
    "    print(\"\\t[*] AES key:\", showed_key[0])\n",
    "\n",
    "    return 0\n",
    "\n",
    "process_index_file(start, offset)"
   ]
  },
  {
   "cell_type": "markdown",
   "metadata": {},
   "source": [
    "## 0.3 解析能量迹曲线"
   ]
  },
  {
   "cell_type": "code",
   "execution_count": 308,
   "metadata": {},
   "outputs": [
    {
     "name": "stdout",
     "output_type": "stream",
     "text": [
      "[*] The very first 10 power sample: [-6 -5 -4  0  0 -5 -1 10 13  9]\n"
     ]
    },
    {
     "data": {
      "text/plain": [
       "[<matplotlib.lines.Line2D at 0x7efea2a85be0>]"
      ]
     },
     "execution_count": 308,
     "metadata": {},
     "output_type": "execute_result"
    },
    {
     "data": {
      "image/png": "[encoded data removed]",
      "text/plain": [
       "<Figure size 432x288 with 1 Axes>"
      ]
     },
     "metadata": {
      "needs_background": "light"
     },
     "output_type": "display_data"
    }
   ],
   "source": [
    "def read_single_file(trace_file):\n",
    "    f = open(trace_file, \"rb\")\n",
    "    content = f.read()\n",
    "    base_offset = content.find(b\"WAVEDESC\")\n",
    "    #print(base_offset)\n",
    "    first_data_array_len = struct.unpack(\"<I\", content[base_offset + 60 : base_offset + 60 + 4])[0] # 1st data array len\n",
    "    data_points_num = struct.unpack(\"<I\", content[base_offset + 116 : base_offset + 116 + 4])[0] # overall data points num\n",
    "    #print(first_data_array_len, data_points_num)\n",
    "    assert first_data_array_len == data_points_num\n",
    "    \n",
    "    header_len = struct.unpack(\"<I\", content[base_offset + 36 : base_offset + 36 + 4])[0]\n",
    "    data_offset = base_offset + header_len\n",
    "    #print(data_offset, data_points_num)\n",
    "    assert data_offset + data_points_num == len(content) # first 357 bytes and then 435002 bytes\n",
    "    \n",
    "    first_points_ind = struct.unpack(\"<I\", content[base_offset + 124 : base_offset + 124 + 4])[0]\n",
    "    last_points_ind = struct.unpack(\"<I\", content[base_offset + 128 : base_offset + 128 + 4])[0]\n",
    "    assert last_points_ind - first_points_ind + 1 == data_points_num\n",
    "    #print(first_points_ind, last_points_ind)\n",
    "    \n",
    "    # read_data\n",
    "    single_trace_content = []\n",
    "    for i in range(data_points_num):\n",
    "        point = struct.unpack(\"b\", bytes([content[data_offset + first_points_ind + i]]))[0]\n",
    "        single_trace_content.append(point)\n",
    "    return single_trace_content\n",
    "\n",
    "\n",
    "def read_trace_file(trace_num):\n",
    "    raw_trace = []\n",
    "    try:\n",
    "        print(\"[*] Reading trace file...\")\n",
    "        for i in range(trace_num):\n",
    "            trace_file = \"traces/00000/Z1Trace\" + str(i).zfill(5) + \".trc\"\n",
    "            raw_trace.append(read_single_file(trace_file))\n",
    "        return np.array(raw_trace)\n",
    "    except Exception as e:\n",
    "        print(\"[*] Exception:\", e)\n",
    "        \n",
    "# dump some traces and plot some samples \n",
    "first_trace = np.array(read_single_file(\"traces/00000/Z1Trace00000.trc\"))\n",
    "print('[*] The very first 10 power sample:', first_trace[:10])\n",
    "plt.plot(first_trace)"
   ]
  },
  {
   "cell_type": "markdown",
   "metadata": {},
   "source": [
    "## 0.4 准备AES算法相关数据\n",
    "- 读取明文、偏移、密钥\n",
    "- 获取第一轮轮密钥\n",
    "- 计算目标泄露"
   ]
  },
  {
   "cell_type": "code",
   "execution_count": 404,
   "metadata": {},
   "outputs": [],
   "source": [
    "crypto, offset, showed_key = load_index_npy_file()"
   ]
  },
  {
   "cell_type": "markdown",
   "metadata": {},
   "source": [
    "- （可选）计算AES轮密钥\n",
    "    - 由于SCA往往针对第一轮进行攻击，而第一轮的轮密钥与原密钥相同，因此许多时候无需专门计算其他轮密钥"
   ]
  },
  {
   "cell_type": "code",
   "execution_count": 410,
   "metadata": {},
   "outputs": [
    {
     "name": "stdout",
     "output_type": "stream",
     "text": [
      "[108, 236, 198, 127, 40, 125, 8, 61, 235, 135, 102, 240, 115, 139, 54, 207, 22, 78, 217, 178, 70, 149, 16, 144, 134, 157, 8, 40, 93, 46, 25, 59]\n",
      "[*] The First Key byte:  108\n",
      "[*] The First Round Key:  [108, 236, 198, 127, 40, 125, 8, 61, 235, 135, 102, 240, 115, 139, 54, 207]\n"
     ]
    }
   ],
   "source": [
    "# round key calculating\n",
    "key_size = len(showed_key[0]) # 128 hex bit\n",
    "real_key = bytes.fromhex(showed_key[0])\n",
    "print([int(b) for b in real_key])\n",
    "assert len(real_key) == key_size // 2 # the whole real long key bytes\n",
    "key_size = len(real_key)\n",
    "\n",
    "aes_cipher = AES.AES()\n",
    "rounds = 14 # aes 256 rounds\n",
    "expandedKeySize = 16 * (rounds + 1)\n",
    "expandedKey = aes_cipher.expandKey(real_key, key_size, expandedKeySize)\n",
    "round_key = aes_cipher.createRoundKey(expandedKey, 0) # the real key that will be xored with plaintext\n",
    "\n",
    "first_key_byte = round_key[0] # first key byte still 0x6c\n",
    "first_round_key = [round_key[i * 4 + j] for j in range(4) for i in range(4)] # same as the first 16 bytes of the raw key\n",
    "print('[*] The First Key byte: ', first_key_byte)\n",
    "print('[*] The First Round Key: ', first_round_key)"
   ]
  },
  {
   "cell_type": "markdown",
   "metadata": {},
   "source": [
    "- 读取明文与掩码偏移，并处理成可直接操作的int格式"
   ]
  },
  {
   "cell_type": "code",
   "execution_count": 346,
   "metadata": {},
   "outputs": [
    {
     "name": "stdout",
     "output_type": "stream",
     "text": [
      "[*] The AES mask is : [  0  15  54  57  83  92 101 106 149 154 163 172 198 201 240 255]\n",
      "[*] Target leakage calculated.\n"
     ]
    }
   ],
   "source": [
    "# get mask value\n",
    "mask = load_mask_file()\n",
    "mask_offset = [int(o, 16) for o in offset]\n",
    "\n",
    "plaintext = []\n",
    "for p in crypto[:,0]:\n",
    "    plaintext.append([int(p[b : b + 2], 16) for b in range(0, len(p), 2)])\n",
    "plaintext = np.array(plaintext)\n"
   ]
  },
  {
   "cell_type": "markdown",
   "metadata": {},
   "source": [
    "## 0.5 从npy文件读取曲线\n",
    "- raw trace npy file (from Yuhang Ji)\n",
    "- npy曲线文件包含 raw_trace_num * trace_length 的曲线"
   ]
  },
  {
   "cell_type": "code",
   "execution_count": 342,
   "metadata": {},
   "outputs": [
    {
     "name": "stdout",
     "output_type": "stream",
     "text": [
      "[*] Reading traces from 0 to 3000 done.\n"
     ]
    }
   ],
   "source": [
    "# read some raw_traces\n",
    "\n",
    "def load_npy_traces(start, off):\n",
    "    raw_samples = np.load(\"traces/00000.npy\")\n",
    "    raw_traces = np.array(raw_samples[start : start + off])\n",
    "    print(\"[*] Reading traces from %d to %d done.\" % (start, start + off))\n",
    "    return raw_traces\n",
    "    \n",
    "raw_traces = load_npy_traces(start, offset)\n",
    "trace_num = raw_traces.shape[0]"
   ]
  },
  {
   "cell_type": "markdown",
   "metadata": {},
   "source": [
    "# 1 寻找曲线能量泄露点\n",
    "\n",
    "- 恢复策略是将二阶CPA转化为对一阶CPA的攻击\n",
    "    - 针对$SBOX[x_{0} \\oplus k_{0}] \\oplus x_{1}$ 进行相关性分析\n",
    "    - 具体操作是先将该点进行拆分表示，并获取两点之间的泄露能量差\n",
    "- 因此，需要明确该如何拆分，并且在曲线上找到对应的点"
   ]
  },
  {
   "cell_type": "markdown",
   "metadata": {},
   "source": [
    "## 1.0 计算目标操作字节的理论泄露\n",
    "- $x_{1}\\oplus m_{1}$\n",
    "- $SBOX[x_{0} \\oplus k_{0}] \\oplus m_{1}$\n",
    "    - 理论泄露模型使用汉明重量"
   ]
  },
  {
   "cell_type": "code",
   "execution_count": 350,
   "metadata": {},
   "outputs": [
    {
     "name": "stdout",
     "output_type": "stream",
     "text": [
      "[*] leakage calculated.\n",
      "[*] Sample leakage [3 6 5 4 3 4 3 5 3 5] [5 8 4 3 1 4 2 6 2 2]\n"
     ]
    }
   ],
   "source": [
    "# get x1 xored m1 leakage in a vector\n",
    "first_byte_leak = np.array([HW[p[1] ^ mask[(o + 1) % 16]] for p, o in zip(plaintext, mask_offset)])\n",
    "\n",
    "# get SBOX[x0 xor k0] xor m1 leakage in a vector\n",
    "masked_state_byte_leak = np.array([HW[SBOX[p[0] ^ first_key_byte] ^ mask[(o + 1) % 16]] for p, o in zip(plaintext, mask_offset)])\n",
    "\n",
    "\n",
    "print('[*] leakage calculated.')\n",
    "print('[*] Sample leakage', first_byte_leak[:10], masked_state_byte_leak[:10])"
   ]
  },
  {
   "cell_type": "markdown",
   "metadata": {},
   "source": [
    "## 1.1 相关性寻找\n",
    "- 在曲线上根据相关性大小寻找可能的泄露位置\n",
    "- 核心思想：\n",
    "    - 取出X条曲线的每一列，将其与理论泄露值进行相关系数的计算\n",
    "    - 选出相关系数最大的那些点的索引以备后用"
   ]
  },
  {
   "cell_type": "code",
   "execution_count": 358,
   "metadata": {},
   "outputs": [],
   "source": [
    "sample_length = trace_length # Here we use the whole trace\n",
    "analysis_trace_num = 1000\n",
    "attack_trace_num = trace_num - analysis_trace_num\n",
    "correlated_candidates = 20"
   ]
  },
  {
   "cell_type": "code",
   "execution_count": 360,
   "metadata": {},
   "outputs": [
    {
     "name": "stdout",
     "output_type": "stream",
     "text": [
      "[*] Done picking the leaked samples.\n",
      "[*] The most relavant leaked point of x1 xored m1 is at 11106, with correlation coefficient 0.842517 \n",
      "[*] The most relavant leaked point of SBOX[x0 xored k0] xored m1 is at 228403, with correlation coefficient 0.920145 \n"
     ]
    }
   ],
   "source": [
    "x1_corr_rank = np.zeros(sample_length) # x1 xor m1 leakage rank\n",
    "s1_corr_rank = np.zeros(sample_length) # SBox[x0 xor k0] xor m1 leakage rank\n",
    "\n",
    "candidate_traces = raw_traces[:analysis_trace_num]  \n",
    "x1_corr_rank += correlation(first_byte_leak[:analysis_trace_num], candidate_traces)\n",
    "s1_corr_rank += correlation(masked_state_byte_leak[:analysis_trace_num], candidate_traces)\n",
    "\n",
    "# let's pick the top 20 most related points\n",
    "x1_ind = x1_corr_rank.argsort()[-correlated_candidates : ][::-1] # x1 xored m1 pos\n",
    "s1_ind = s1_corr_rank.argsort()[-correlated_candidates : ][::-1] # sbox(x0 xored k0) xored m1 pos\n",
    "\n",
    "print(\"[*] Done picking the leaked samples.\")\n",
    "print(\"[*] The most relavant leaked point of x1 xored m1 is at %d, with correlation coefficient %lf \" % (x1_ind[0], x1_corr_rank[x1_ind[0]]))\n",
    "print(\"[*] The most relavant leaked point of SBOX[x0 xored k0] xored m1 is at %d, with correlation coefficient %lf \" % (s1_ind[0], s1_corr_rank[s1_ind[0]]))"
   ]
  },
  {
   "cell_type": "markdown",
   "metadata": {},
   "source": [
    "- 对rank进行可视化表示，以确认相关性大小"
   ]
  },
  {
   "cell_type": "code",
   "execution_count": 361,
   "metadata": {},
   "outputs": [
    {
     "data": {
      "text/plain": [
       "[<matplotlib.lines.Line2D at 0x7efea2d01610>]"
      ]
     },
     "execution_count": 361,
     "metadata": {},
     "output_type": "execute_result"
    },
    {
     "data": {
      "image/png": "[encoded data removed]",
      "text/plain": [
       "<Figure size 432x288 with 1 Axes>"
      ]
     },
     "metadata": {
      "needs_background": "light"
     },
     "output_type": "display_data"
    }
   ],
   "source": [
    "# take a look \n",
    "plt.plot(x1_corr_rank)\n",
    "plt.plot(s1_corr_rank)"
   ]
  },
  {
   "cell_type": "markdown",
   "metadata": {},
   "source": [
    "## 1.2 得到两点曲线泄露差值\n",
    "- 根据等式$x_{1}\\oplus m_{1} \\oplus SBOX[x_{0} \\oplus k_{0}] \\oplus m_{0}$ = $x_{1} \\oplus SBOX[x_{0} \\oplus k_{0}]$可知\n",
    "    - 需要构建$x_{1}\\oplus m_{1}$与$SBOX[x_{0} \\oplus k_{0}] \\oplus m_{1}$泄漏点之间的联系\n",
    "    - 使用曲线点之间的能量差值进行联系\n",
    "- 通过得到的前20个可能泄漏点，一条曲线可以得到20个曲线能量差值，这些差值都与密钥和S盒有关"
   ]
  },
  {
   "cell_type": "code",
   "execution_count": 373,
   "metadata": {},
   "outputs": [
    {
     "name": "stdout",
     "output_type": "stream",
     "text": [
      "[*] Power difference between the two leaked points Done.\n",
      "[*] Samples: \n",
      " [[25 34 37 27 45 51 27 23  5 14  9 25 17 19 10 29  8  4  3 43]\n",
      " [38 46 45 33 45 52 23 28  8  6  4 23  6 25  7 26 10  4  3 31]\n",
      " [27 31 31 25 42 47 23 21  8 14  4 24 20 17 13 29 13  7 17 41]]\n",
      "(2000, 20)\n"
     ]
    }
   ],
   "source": [
    "power_diff = [] # attack_trace_num * 20 list\n",
    "for trace in raw_traces[-attack_trace_num:]:\n",
    "    trace_leak_point = [abs(trace[id1] - trace[id2]) for id1, id2 in zip(s1_ind, x1_ind)]\n",
    "    power_diff.append(trace_leak_point)\n",
    "power_diff = np.array(power_diff)\n",
    "\n",
    "print(\"[*] Power difference between the two leaked points Done.\")\n",
    "print('[*] Samples: \\n', power_diff[:3])\n",
    "print(power_diff.shape)\n"
   ]
  },
  {
   "cell_type": "markdown",
   "metadata": {},
   "source": [
    "# 2 攻击1字节密钥\n",
    "- 此时，已获得 attack_trace_num * 20的矩阵，该矩阵存储了与目标泄露点相关性最强的点之间的能量差值\n",
    "- 应遍历0-255之间的每种取值，根据明文计算其理论能量泄露，并与差值矩阵进行相关性比较，以筛选最有可能的密钥"
   ]
  },
  {
   "cell_type": "code",
   "execution_count": 389,
   "metadata": {},
   "outputs": [
    {
     "name": "stdout",
     "output_type": "stream",
     "text": [
      "[108]\n",
      "[*] Retrived First Key Byte is:  6c\n"
     ]
    }
   ],
   "source": [
    "# let's attack\n",
    "key_rank = np.zeros((256, correlated_candidates))\n",
    "for candidate_key in range(256):\n",
    "    candidate_leak = np.array([HW[SBOX[p[0] ^ candidate_key] ^ p[1]] for p in plaintext[-attack_trace_num:]])\n",
    "    assert candidate_leak.shape[0] == attack_trace_num\n",
    "    key_speified_candidate = np.zeros(correlated_candidates)\n",
    "    for leak_point in range(correlated_candidates):\n",
    "        key_speified_candidate[leak_point] = correlation(candidate_leak, power_diff[:,leak_point])\n",
    "    key_rank[candidate_key] = key_speified_candidate\n",
    "possible_key, possible_loc = np.where(key_rank == np.max(key_rank))\n",
    "print('[*] Retrived First Key Byte is: ', hex(possible_key[0])[2:])"
   ]
  },
  {
   "cell_type": "code",
   "execution_count": 393,
   "metadata": {},
   "outputs": [
    {
     "data": {
      "text/plain": [
       "[<matplotlib.lines.Line2D at 0x7efd9f91a670>]"
      ]
     },
     "execution_count": 393,
     "metadata": {},
     "output_type": "execute_result"
    },
    {
     "data": {
      "image/png": "[encoded data removed]",
      "text/plain": [
       "<Figure size 432x288 with 1 Axes>"
      ]
     },
     "metadata": {
      "needs_background": "light"
     },
     "output_type": "display_data"
    }
   ],
   "source": [
    "# the most relavant leakage points index\n",
    "plt.plot(key_rank[:, possible_loc[0]])"
   ]
  },
  {
   "cell_type": "markdown",
   "metadata": {},
   "source": [
    "# 3. 攻击第一轮16字节密钥\n",
    "- 将上述攻击过程进行组合，可恢复出完整的第一轮轮密钥\n",
    "    - 第一轮轮密钥即原256位密钥的前128位\n"
   ]
  },
  {
   "cell_type": "code",
   "execution_count": 415,
   "metadata": {},
   "outputs": [
    {
     "name": "stdout",
     "output_type": "stream",
     "text": [
      "[*] The Original Key is:  6cecc67f287d83deb8766f0738b36cf\n",
      "\t[*] Retrieving:  6c\n",
      "\t[*] Retrieving:  6cec\n",
      "\t[*] Retrieving:  6cecc6\n",
      "\t[*] Retrieving:  6cecc67f\n",
      "\t[*] Retrieving:  6cecc67f28\n",
      "\t[*] Retrieving:  6cecc67f287d\n",
      "\t[*] Retrieving:  6cecc67f287d8\n",
      "\t[*] Retrieving:  6cecc67f287d83d\n",
      "\t[*] Retrieving:  6cecc67f287d83deb\n",
      "\t[*] Retrieving:  6cecc67f287d83deb87\n",
      "\t[*] Retrieving:  6cecc67f287d83deb8766\n",
      "\t[*] Retrieving:  6cecc67f287d83deb8766f0\n",
      "\t[*] Retrieving:  6cecc67f287d83deb8766f073\n",
      "\t[*] Retrieving:  6cecc67f287d83deb8766f0738b\n",
      "\t[*] Retrieving:  6cecc67f287d83deb8766f0738b36\n",
      "\t[*] Retrieving:  6cecc67f287d83deb8766f0738b36cf\n"
     ]
    }
   ],
   "source": [
    "sample_length = trace_length # Here we use the whole trace\n",
    "analysis_trace_num = 1000\n",
    "attack_trace_num = trace_num - analysis_trace_num\n",
    "correlated_candidates = 20\n",
    "\n",
    "# wrap all up and attack\n",
    "print(\"[*] The Original Key is: \", ''.join(list(map(lambda x : hex(x)[2:], first_round_key))))\n",
    "retrieved_key = \"\"\n",
    "for kpos in range(len(first_round_key)):\n",
    "    # get x_k+1 xored m_k+1 leakage in a vector\n",
    "    target_byte_leak = np.array([HW[p[(kpos + 1) % 16] ^ mask[(o + kpos + 1) % 16]] for p, o in zip(plaintext, mask_offset)])\n",
    "\n",
    "    # get SBOX[x_k xor k_k] xor m_k+1 leakage in a vector\n",
    "    masked_state_byte_leak = np.array([HW[SBOX[p[kpos] ^ first_round_key[kpos]] ^ mask[(o + kpos + 1) % 16]] for p, o in zip(plaintext, mask_offset)])\n",
    "\n",
    "    \n",
    "    xk_corr_rank = np.zeros(sample_length) # x1 xor m1 leakage rank\n",
    "    sk_corr_rank = np.zeros(sample_length) # SBox[x0 xor k0] xor m1 leakage rank\n",
    "\n",
    "    candidate_traces = raw_traces[:analysis_trace_num]  \n",
    "    xk_corr_rank += correlation(target_byte_leak[:analysis_trace_num], candidate_traces)\n",
    "    sk_corr_rank += correlation(masked_state_byte_leak[:analysis_trace_num], candidate_traces)\n",
    "\n",
    "    # let's pick the top 20 most relavant points\n",
    "    xk_ind = xk_corr_rank.argsort()[-correlated_candidates : ][::-1] # x1 xored m1 pos\n",
    "    sk_ind = sk_corr_rank.argsort()[-correlated_candidates : ][::-1] # sbox(x0 xored k0) xored m1 pos\n",
    "    \n",
    "    \n",
    "    power_diff = [] # attack_trace_num * 20 list\n",
    "    for trace in raw_traces[-attack_trace_num:]:\n",
    "        trace_leak_point = [abs(trace[id1] - trace[id2]) for id1, id2 in zip(sk_ind, xk_ind)]\n",
    "        power_diff.append(trace_leak_point)\n",
    "    power_diff = np.array(power_diff)\n",
    "    assert power_diff.shape == (attack_trace_num, correlated_candidates)\n",
    "    \n",
    "    \n",
    "    key_rank = np.zeros((256, correlated_candidates))\n",
    "    for candidate_key in range(256):\n",
    "        candidate_leak = np.array([HW[SBOX[p[kpos] ^ candidate_key] ^ p[(kpos + 1) % 16]] for p in plaintext[-attack_trace_num:]])\n",
    "        assert candidate_leak.shape[0] == attack_trace_num\n",
    "        key_speified_candidate = np.zeros(correlated_candidates)\n",
    "        for leak_point in range(correlated_candidates):\n",
    "            key_speified_candidate[leak_point] = correlation(candidate_leak, power_diff[:,leak_point])\n",
    "        key_rank[candidate_key] = key_speified_candidate\n",
    "    possible_key, possible_loc = np.where(key_rank == np.max(key_rank))\n",
    "    retrieved_key += hex(possible_key[0])[2:]\n",
    "    print(\"\\t[*] Retrieving: \",retrieved_key)"
   ]
  },
  {
   "cell_type": "code",
   "execution_count": null,
   "metadata": {},
   "outputs": [],
   "source": []
  }
 ],
 "metadata": {
  "kernelspec": {
   "display_name": "Python 3",
   "language": "python",
   "name": "python3"
  },
  "language_info": {
   "codemirror_mode": {
    "name": "ipython",
    "version": 3
   },
   "file_extension": ".py",
   "mimetype": "text/x-python",
   "name": "python",
   "nbconvert_exporter": "python",
   "pygments_lexer": "ipython3",
   "version": "3.8.3"
  }
 },
 "nbformat": 4,
 "nbformat_minor": 4
}
